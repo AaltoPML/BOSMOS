{
 "cells": [
  {
   "cell_type": "code",
   "execution_count": 73,
   "metadata": {},
   "outputs": [],
   "source": [
    "import os\n",
    "import scipy.io\n",
    "import numpy as np\n",
    "import matplotlib.pyplot as plt\n",
    "import seaborn as sns\n",
    "import pandas as pd\n",
    "\n",
    "\n",
    "import matplotlib.ticker as plticker\n",
    "from matplotlib.axis import Tick\n"
   ]
  },
  {
   "cell_type": "markdown",
   "metadata": {},
   "source": [
    "sns.kdeplot(df2,x=\"Sensor_noise\",hue=\"Iteration\")\n",
    "plt.axvline(x=mat[\"all_ground_truth\"][nexp][1][0][1], color=\"red\")\n",
    "plt.savefig('evol_sensor_noise_bosmos_exp2.png')"
   ]
  },
  {
   "cell_type": "markdown",
   "metadata": {},
   "source": [
    "sns.kdeplot(df3,x=\"Sensor_noise\",hue=\"Iteration\")\n",
    "plt.axvline(x=mat[\"all_ground_truth\"][nexp][1][0][1], color=\"red\")\n",
    "plt.savefig('evol_sensor_noise_minebed_exp2.png')"
   ]
  },
  {
   "cell_type": "code",
   "execution_count": 74,
   "metadata": {},
   "outputs": [
    {
     "name": "stdout",
     "output_type": "stream",
     "text": [
      "['1' '1' '1' ... '100' '100' '100']\n",
      "39931 39931 39931 39931\n",
      "SignalDetection \n",
      "0 1\n",
      "[array(['hit         ', 'sensor_noise', 'lower_thr   ', 'thr_gap     '],\n",
      "       dtype='<U12')\n",
      " array([[6.26159316, 0.58722768, 2.34790158, 3.2830388 ]])]\n",
      "       $\\theta_{sens}$  $\\theta_{hit}$ Trials Algorithm\n",
      "0             0.353468        4.972200      1    BOSMOS\n",
      "1             0.867921        2.390954      1    BOSMOS\n",
      "2             0.352292        1.766201      1    BOSMOS\n",
      "3             0.482298        2.841803      1    BOSMOS\n",
      "4             0.780984        3.813725      1    BOSMOS\n",
      "...                ...             ...    ...       ...\n",
      "39926         0.882091        3.282124    100    BOSMOS\n",
      "39927         0.246258        2.659230    100    BOSMOS\n",
      "39928         0.918477        3.244885    100    BOSMOS\n",
      "39929         0.907505        3.247157    100    BOSMOS\n",
      "39930         0.947170        3.194681    100    BOSMOS\n",
      "\n",
      "[39931 rows x 4 columns]\n",
      "       $\\theta_{sens}$  $\\theta_{hit}$ Trials Algorithm\n",
      "0             0.638705        4.231806      1   Minebed\n",
      "1             0.571120        3.570984      1   Minebed\n",
      "2             0.407730        4.938453      1   Minebed\n",
      "3             0.313926        5.440943      1   Minebed\n",
      "4             0.875886        4.069584      1   Minebed\n",
      "...                ...             ...    ...       ...\n",
      "33144         0.967883        5.454048    100   Minebed\n",
      "33145         0.993759        5.759443    100   Minebed\n",
      "33146         0.968574        6.677937    100   Minebed\n",
      "33147         0.983848        6.059497    100   Minebed\n",
      "33148         0.999193        6.613220    100   Minebed\n",
      "\n",
      "[33149 rows x 4 columns]\n"
     ]
    },
    {
     "name": "stderr",
     "output_type": "stream",
     "text": [
      "/tmp/ipykernel_794559/2425584051.py:1: MatplotlibDeprecationWarning: The seaborn styles shipped by Matplotlib are deprecated since 3.6, as they no longer correspond to the styles shipped by seaborn. However, they will remain available as 'seaborn-v0_8-<style>'. Alternatively, directly use the seaborn API instead.\n",
      "  plt.style.use('seaborn')\n"
     ]
    }
   ],
   "source": [
    "plt.style.use('seaborn')\n",
    "\n",
    "#number of the experiment\n",
    "exp=25\n",
    "minebed_exp=exp\n",
    "bosmos_exp=exp % 5\n",
    "\n",
    "# Prepare BOSMOS\n",
    "bosmos_mat = scipy.io.loadmat('sp-' + str(exp - exp % 5)+ '-' + str(exp - exp % 5 +5) + '.mat')\n",
    "bosmos_posteriors=bosmos_mat[\"posterior_trajectories\"]\n",
    "bosmos_posteriors=np.delete(bosmos_posteriors, 1, 1)\n",
    "\n",
    "\n",
    "# Prepare MINEBED\n",
    "minebed_mat = scipy.io.loadmat('minebed-' + str(minebed_exp) + '-' + str(minebed_exp+1) +'.mat')\n",
    "minebed_posteriors=minebed_mat[\"posterior_trajectories\"][0]\n",
    "minebed_posteriors=np.delete(minebed_posteriors, 1, 0)\n",
    "\n",
    "trials_labels = ['1', '4', '20', '100']\n",
    "\n",
    "if bosmos_mat[\"true_models\"][exp+1][0] == 'SignalDetection'[0]:\n",
    "        npar1=0\n",
    "        npar2=1\n",
    "elif bosmos_mat[\"true_models\"][exp+1][0] == 'ProbabilityRatio'[0]:\n",
    "        npar1=2\n",
    "        npar2=3\n",
    "        raise ValueError\n",
    "true_x = bosmos_mat[\"all_ground_truth\"][bosmos_exp][1][0][1]\n",
    "true_y = bosmos_mat[\"all_ground_truth\"][bosmos_exp][1][0][0]\n",
    "\n",
    "# print('BOSMOS:')\n",
    "# print(bosmos_posteriors[bosmos_exp])\n",
    "bosmos_value=np.concatenate([ np.array(x[npar1][1]).flatten() for x in  bosmos_posteriors[bosmos_exp]])\n",
    "bosmos_valuebis=np.concatenate([ np.array(x[npar2][1]).flatten() for x in  bosmos_posteriors[bosmos_exp]])\n",
    "bosmos_iteration=np.concatenate( [ [trials_labels[i]]*len( np.array(bosmos_posteriors[bosmos_exp][i][npar1][1]).flatten() ) for i in range(len(trials_labels))] )\n",
    "bosmos_algorithm=[\"BOSMOS\"]*len(bosmos_value)\n",
    "\n",
    "# print('MINEBED:')\n",
    "# print(minebed_posteriors)\n",
    "minebed_value=np.concatenate([ np.array(x[npar1][1]).flatten()  for x in minebed_posteriors])\n",
    "minebed_valuebis=np.concatenate([ np.array(x[npar2][1]).flatten()  for x in minebed_posteriors])\n",
    "minebed_iteration=np.concatenate( [ [trials_labels[i]]*len( np.array(minebed_posteriors[i][npar1][1]).flatten() ) for i in range(len(trials_labels))] )\n",
    "minebed_algorithm=[\"Minebed\"]*len(minebed_value)\n",
    "\n",
    "\n",
    "bosmos_data = {r'$\\theta_{sens}$': bosmos_value,\n",
    "        r'$\\theta_{hit}$': bosmos_valuebis,\n",
    "        'Trials': bosmos_iteration,\n",
    "        'Algorithm': bosmos_algorithm\n",
    "        }\n",
    "print(bosmos_iteration)\n",
    "print(len(bosmos_value), len(bosmos_valuebis), len(bosmos_iteration), len(bosmos_algorithm))\n",
    "# print(len(np.concatenate([bosmos_value])), len(np.concatenate([bosmos_valuebis])), len(np.concatenate([bosmos_iteration])), len(np.concatenate([bosmos_algorithm])))\n",
    "bosmos_df = pd.DataFrame(bosmos_data)\n",
    "# bosmos_df = bosmos_df.append({r'$\\theta_{sens}$': 0.4, r'$\\theta_{hit}$': 4, 'Trials': 4, 'Algorithm': 'BOSMOS'}, ignore_index=True)\n",
    "# bosmos_df = bosmos_df.append({r'$\\theta_{sens}$': 0.4, r'$\\theta_{hit}$': 4, 'Trials': 20, 'Algorithm': 'BOSMOS'}, ignore_index=True)\n",
    "# bosmos_df = bosmos_df.append({r'$\\theta_{sens}$': 0.4, r'$\\theta_{hit}$': 4, 'Trials': 100, 'Algorithm': 'BOSMOS'}, ignore_index=True)\n",
    "\n",
    "minebed_data = {r'$\\theta_{sens}$': minebed_value,\n",
    "        r'$\\theta_{hit}$': minebed_valuebis,\n",
    "        'Trials': minebed_iteration,\n",
    "        'Algorithm': minebed_algorithm\n",
    "        }\n",
    "minebed_df = pd.DataFrame(minebed_data)\n",
    "# minebed_df = minebed_df.append({r'$\\theta_{sens}$': 0.4, r'$\\theta_{hit}$': 4, 'Trials': 20, 'Algorithm': 'Minebed'}, ignore_index=True)\n",
    "# minebed_df = minebed_df.append({r'$\\theta_{sens}$': 0.4, r'$\\theta_{hit}$': 4, 'Trials': 100, 'Algorithm': 'Minebed'}, ignore_index=True)\n",
    "\n",
    "# print(bosmos_posteriors[bosmos_exp])\n",
    "print(bosmos_mat[\"true_models\"][exp+1])\n",
    "print(npar1, npar2)\n",
    "print(bosmos_mat[\"all_ground_truth\"][bosmos_exp])\n",
    "print(bosmos_df)\n",
    "print(minebed_df)"
   ]
  },
  {
   "cell_type": "code",
   "execution_count": 75,
   "metadata": {},
   "outputs": [
    {
     "name": "stderr",
     "output_type": "stream",
     "text": [
      "/home/alex/.local/lib/python3.10/site-packages/seaborn/axisgrid.py:848: FutureWarning: \n",
      "\n",
      "`shade` is now deprecated in favor of `fill`; setting `fill=True`.\n",
      "This will become an error in seaborn v0.14.0; please update your code.\n",
      "\n",
      "  func(*plot_args, **plot_kwargs)\n",
      "/home/alex/.local/lib/python3.10/site-packages/seaborn/axisgrid.py:848: FutureWarning: \n",
      "\n",
      "`shade` is now deprecated in favor of `fill`; setting `fill=True`.\n",
      "This will become an error in seaborn v0.14.0; please update your code.\n",
      "\n",
      "  func(*plot_args, **plot_kwargs)\n",
      "/home/alex/.local/lib/python3.10/site-packages/seaborn/axisgrid.py:848: FutureWarning: \n",
      "\n",
      "`shade` is now deprecated in favor of `fill`; setting `fill=True`.\n",
      "This will become an error in seaborn v0.14.0; please update your code.\n",
      "\n",
      "  func(*plot_args, **plot_kwargs)\n",
      "/home/alex/.local/lib/python3.10/site-packages/seaborn/axisgrid.py:848: FutureWarning: \n",
      "\n",
      "`shade` is now deprecated in favor of `fill`; setting `fill=True`.\n",
      "This will become an error in seaborn v0.14.0; please update your code.\n",
      "\n",
      "  func(*plot_args, **plot_kwargs)\n"
     ]
    },
    {
     "data": {
      "image/png": "[encoded data removed]",
      "text/plain": [
       "<Figure size 800x200 with 4 Axes>"
      ]
     },
     "metadata": {},
     "output_type": "display_data"
    }
   ],
   "source": [
    "width = 3\n",
    "height = 2\n",
    "\n",
    "# sns.color_palette(\"pastel\")\n",
    "sns.set_color_codes(palette='bright')\n",
    " \n",
    "# Plot BOSMOS\n",
    "g = sns.FacetGrid(bosmos_df, col='Trials', height=height, aspect=1, xlim=(-0.1,1.1), ylim=(-0.5104534934289062, 8.496 ))\n",
    "g.map(sns.kdeplot,r'$\\theta_{sens}$', r'$\\theta_{hit}$',log_scale=[False,False], shade=True, color='r', levels=7)\n",
    "# g.set_titles(col_template=\"\") # g.add_legend()\n",
    "for ax in g.axes_dict.values():\n",
    "    ax.scatter(x=true_x, y=true_y, color='black', marker='x')\n",
    "    ax.xaxis.set_major_locator(plticker.MultipleLocator(base=.3))\n",
    "    ax.yaxis.set_major_locator(plticker.MultipleLocator(base=2))\n",
    "\n",
    "    ax.set_ylabel('POW\\n\\n' + r'$\\theta_{hit}$', rotation=0, labelpad=15)\n",
    "    # ax.set_xlim(-0.1,1.1)\n",
    "    # ax.set_ylim(-0.5104534934289062, 8.496 )\n",
    "    for tick in ax.get_xticklabels():\n",
    "        tick.set_rotation(30)\n",
    "plt.savefig('bosmos_joint-' + str(exp) + '-' + bosmos_mat[\"true_models\"][exp+1][0] + '.tiff', dpi=600)\n"
   ]
  },
  {
   "cell_type": "code",
   "execution_count": 76,
   "metadata": {},
   "outputs": [
    {
     "data": {
      "text/plain": [
       "'# Plot MINEBED\\ng = sns.FacetGrid(minebed_df, col=\\'Trials\\', height=height, aspect=1)\\ng.map(sns.kdeplot, r\\'$\\theta_{sens}$\\', r\\'$\\theta_{hit}$\\',log_scale=[False,False], shade=True, color=\\'green\\', levels=7)\\ng.add_legend()\\nfor ax in g.axes_dict.values():\\n    ax.scatter(x=true_x, y=true_y, color=\\'black\\', marker=\\'x\\')\\n    ax.xaxis.set_major_locator(plticker.MultipleLocator(base=.3))\\n    ax.yaxis.set_major_locator(plticker.MultipleLocator(base=2))\\n    # ax.set_xlabel(\\'\\')\\n\\n    ax.set_ylabel(\\'POW\\n\\n\\' + r\\'$\\theta_{hit}$\\', rotation=0, labelpad=15)\\n    ax.set_xlim(-0.1,1.1)\\n    for tick in ax.get_xticklabels():\\n        tick.set_rotation(30)\\n    print(ax.get_ylim())\\nplt.savefig(\\'minebed_joint-\\' + str(exp) + \\'-\\' + bosmos_mat[\"true_models\"][exp+1][0] + \\'.tiff\\', dpi=600)\\n'"
      ]
     },
     "execution_count": 76,
     "metadata": {},
     "output_type": "execute_result"
    }
   ],
   "source": [
    "'''# Plot MINEBED\n",
    "g = sns.FacetGrid(minebed_df, col='Trials', height=height, aspect=1)\n",
    "g.map(sns.kdeplot, r'$\\theta_{sens}$', r'$\\theta_{hit}$',log_scale=[False,False], shade=True, color='green', levels=7)\n",
    "g.add_legend()\n",
    "for ax in g.axes_dict.values():\n",
    "    ax.scatter(x=true_x, y=true_y, color='black', marker='x')\n",
    "    ax.xaxis.set_major_locator(plticker.MultipleLocator(base=.3))\n",
    "    ax.yaxis.set_major_locator(plticker.MultipleLocator(base=2))\n",
    "    # ax.set_xlabel('')\n",
    "\n",
    "    ax.set_ylabel('POW\\n\\n' + r'$\\theta_{hit}$', rotation=0, labelpad=15)\n",
    "    ax.set_xlim(-0.1,1.1)\n",
    "    for tick in ax.get_xticklabels():\n",
    "        tick.set_rotation(30)\n",
    "    print(ax.get_ylim())\n",
    "plt.savefig('minebed_joint-' + str(exp) + '-' + bosmos_mat[\"true_models\"][exp+1][0] + '.tiff', dpi=600)\n",
    "'''"
   ]
  }
 ],
 "metadata": {
  "kernelspec": {
   "display_name": "Python 3",
   "language": "python",
   "name": "python3"
  },
  "language_info": {
   "codemirror_mode": {
    "name": "ipython",
    "version": 3
   },
   "file_extension": ".py",
   "mimetype": "text/x-python",
   "name": "python",
   "nbconvert_exporter": "python",
   "pygments_lexer": "ipython3",
   "version": "3.10.6"
  },
  "orig_nbformat": 4,
  "vscode": {
   "interpreter": {
    "hash": "916dbcbb3f70747c44a77c7bcd40155683ae19c65e1c03b4aa3499c5328201f1"
   }
  }
 },
 "nbformat": 4,
 "nbformat_minor": 2
}
